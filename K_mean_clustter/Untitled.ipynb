{
 "cells": [
  {
   "cell_type": "code",
   "execution_count": 1,
   "id": "67214776",
   "metadata": {},
   "outputs": [],
   "source": [
    "from sklearn.datasets import make_blobs\n",
    "import matplotlib.pyplot as plt"
   ]
  },
  {
   "cell_type": "code",
   "execution_count": 2,
   "id": "b659fb83",
   "metadata": {},
   "outputs": [],
   "source": [
    "centroids=[(-5,-5),(5,5)]\n",
    "cluster_std=[1,1]"
   ]
  },
  {
   "cell_type": "code",
   "execution_count": 3,
   "id": "00458a7b",
   "metadata": {},
   "outputs": [],
   "source": [
    "X,y=make_blobs(n_samples=100,cluster_std=cluster_std,centers=centroids,n_features=2,random_state=2)"
   ]
  },
  {
   "cell_type": "code",
   "execution_count": 4,
   "id": "21b14490",
   "metadata": {},
   "outputs": [
    {
     "data": {
      "text/plain": [
       "array([[-5.3135082 , -4.22898826],\n",
       "       [-5.65325027, -4.15754372],\n",
       "       [-4.49711858, -6.24528809],\n",
       "       [-4.30488039, -7.03346655],\n",
       "       [ 5.36505352,  5.77408203],\n",
       "       [-5.26905696, -2.76863321],\n",
       "       [-7.1361961 , -3.35972919],\n",
       "       [ 5.79918   ,  6.26261366],\n",
       "       [-7.04032305, -4.95374448],\n",
       "       [ 5.39652016,  4.68538256],\n",
       "       [ 6.11788673,  4.72575791],\n",
       "       [ 9.10869262,  5.82112088],\n",
       "       [-4.49814279, -5.8442137 ],\n",
       "       [ 5.61014409,  5.4234969 ],\n",
       "       [ 3.54663565,  4.66198222],\n",
       "       [ 6.53176032,  3.01415423],\n",
       "       [ 4.67495037,  4.43976549],\n",
       "       [-4.17529699, -3.75178708],\n",
       "       [-5.46200535, -4.64911151],\n",
       "       [-5.67767558, -6.43943903],\n",
       "       [-3.63276458, -3.78211437],\n",
       "       [-4.61813377, -4.43372456],\n",
       "       [ 4.77175244,  2.93038774],\n",
       "       [-4.44854596, -2.70779199],\n",
       "       [ 5.96078194,  5.75837035],\n",
       "       [-5.0191305 , -3.82499878],\n",
       "       [ 4.53165374,  3.74527969],\n",
       "       [-6.42121723, -5.1534952 ],\n",
       "       [-5.38151648, -4.93351099],\n",
       "       [ 5.49794015,  5.12650418],\n",
       "       [ 5.35913333,  5.62222041],\n",
       "       [ 4.28074616,  4.41658541],\n",
       "       [-6.05795222, -5.90900761],\n",
       "       [-5.03957024, -4.67399657],\n",
       "       [-5.33882197, -5.23618403],\n",
       "       [-4.99999024, -4.45764743],\n",
       "       [ 4.40624442,  6.14950057],\n",
       "       [ 7.55043824,  3.52682675],\n",
       "       [ 6.33556617,  5.30262934],\n",
       "       [ 5.69619798,  5.69741627],\n",
       "       [-6.79343559, -5.84174737],\n",
       "       [-3.99963411, -5.38109252],\n",
       "       [ 3.97858527,  5.4323957 ],\n",
       "       [ 4.8855787 ,  4.50182581],\n",
       "       [-7.65944946, -5.09145262],\n",
       "       [ 4.69591356,  7.58529487],\n",
       "       [ 6.03302907,  4.67099757],\n",
       "       [-5.82913529, -4.91228978],\n",
       "       [ 4.63552091,  4.12402052],\n",
       "       [ 4.54577215,  5.51437072],\n",
       "       [-4.46094168, -5.5961597 ],\n",
       "       [-4.61952803, -5.21713527],\n",
       "       [ 4.67641993,  5.42382471],\n",
       "       [ 6.83533272,  5.44068987],\n",
       "       [ 3.93920096,  5.59166652],\n",
       "       [-5.40389227, -6.38451867],\n",
       "       [ 4.30141005,  4.07110808],\n",
       "       [-4.79579202, -3.59330376],\n",
       "       [ 6.16152149,  5.38607805],\n",
       "       [-5.74787095, -4.99097475],\n",
       "       [ 6.10914328,  3.23508227],\n",
       "       [-7.43476758, -4.8872735 ],\n",
       "       [-5.63467931, -4.49160376],\n",
       "       [ 5.75196485,  4.00623902],\n",
       "       [ 5.60151581,  5.00365949],\n",
       "       [-4.38865922, -4.95202941],\n",
       "       [ 4.81674343,  6.01985473],\n",
       "       [ 3.86686673,  5.43309255],\n",
       "       [ 3.45332539,  2.91734806],\n",
       "       [-5.37566942, -5.07447076],\n",
       "       [ 8.2797454 ,  5.97086132],\n",
       "       [-5.41675785, -5.05626683],\n",
       "       [-3.53232199, -5.33567734],\n",
       "       [-4.47570357, -4.26472042],\n",
       "       [ 4.09775393,  4.40902772],\n",
       "       [-6.7379595 , -3.95917605],\n",
       "       [-4.78388399, -6.85861239],\n",
       "       [ 4.72382051,  4.48311611],\n",
       "       [ 3.58118945,  4.74822588],\n",
       "       [-6.09873895, -3.41551294],\n",
       "       [ 5.82945843,  5.63062197],\n",
       "       [ 3.74457278,  5.93816367],\n",
       "       [ 3.86568152,  4.29257911],\n",
       "       [-4.95846061, -6.11792545],\n",
       "       [ 5.12482365,  5.75650214],\n",
       "       [-5.41931648, -5.1323289 ],\n",
       "       [-5.63765501, -6.18761229],\n",
       "       [ 3.51753452,  5.84631189],\n",
       "       [-3.8264685 , -7.34360319],\n",
       "       [-5.87810789, -5.15643417],\n",
       "       [ 6.74181219,  4.55249912],\n",
       "       [-5.18946926, -5.07721867],\n",
       "       [-4.62955546, -3.64036614],\n",
       "       [ 6.79259285,  4.57098668],\n",
       "       [ 5.24143963,  5.49742565],\n",
       "       [-4.56650367, -3.72162077],\n",
       "       [ 3.77857083,  6.80447664],\n",
       "       [-6.86809065, -3.26881533],\n",
       "       [-4.74342955, -5.98877905],\n",
       "       [ 5.18040981,  5.55316427]])"
      ]
     },
     "execution_count": 4,
     "metadata": {},
     "output_type": "execute_result"
    }
   ],
   "source": [
    "X"
   ]
  },
  {
   "cell_type": "code",
   "execution_count": 5,
   "id": "7d35bb49",
   "metadata": {},
   "outputs": [
    {
     "data": {
      "text/plain": [
       "array([0, 0, 0, 0, 1, 0, 0, 1, 0, 1, 1, 1, 0, 1, 1, 1, 1, 0, 0, 0, 0, 0,\n",
       "       1, 0, 1, 0, 1, 0, 0, 1, 1, 1, 0, 0, 0, 0, 1, 1, 1, 1, 0, 0, 1, 1,\n",
       "       0, 1, 1, 0, 1, 1, 0, 0, 1, 1, 1, 0, 1, 0, 1, 0, 1, 0, 0, 1, 1, 0,\n",
       "       1, 1, 1, 0, 1, 0, 0, 0, 1, 0, 0, 1, 1, 0, 1, 1, 1, 0, 1, 0, 0, 1,\n",
       "       0, 0, 1, 0, 0, 1, 1, 0, 1, 0, 0, 1])"
      ]
     },
     "execution_count": 5,
     "metadata": {},
     "output_type": "execute_result"
    }
   ],
   "source": [
    "y"
   ]
  },
  {
   "cell_type": "code",
   "execution_count": 6,
   "id": "4e47d668",
   "metadata": {},
   "outputs": [
    {
     "data": {
      "image/png": "[encoded data removed]",
      "text/plain": [
       "<Figure size 640x480 with 1 Axes>"
      ]
     },
     "metadata": {},
     "output_type": "display_data"
    }
   ],
   "source": [
    "plt.scatter(X[:,0],X[:,1])\n",
    "plt.show()"
   ]
  },
  {
   "cell_type": "code",
   "execution_count": 13,
   "id": "ff3f733e",
   "metadata": {},
   "outputs": [],
   "source": [
    "import random\n",
    "import numpy as np\n",
    "\n",
    "class Kmeans:\n",
    "    def __init__(self,n_clusters=2,max_itr=100):\n",
    "        self.n_clusters=n_clusters\n",
    "        self.max_itr=max_itr\n",
    "        self.centroids=None\n",
    "        \n",
    "    def fit_predict(self,X):\n",
    "        random_index=random.sample(range(0,X.shape[0]), self.n_clusters)\n",
    "        self.centroids=X[random_index]\n",
    "        \n",
    "        for i in range(self.max_itr):\n",
    "            #assign clusters\n",
    "            cluster_group=self.assign_clusters(X)\n",
    "            \n",
    "            #move centroids\n",
    "            old_centroids=self.centroids\n",
    "            self.centroids=self.move_centroids(X,cluster_group)\n",
    "            \n",
    "            #chek finish\n",
    "            if(old_centroids==self.centroids).all():\n",
    "                break\n",
    "            \n",
    "        return cluster_group    \n",
    "            \n",
    "            \n",
    "    def assign_clusters(self,X):\n",
    "        cluster_group=[]\n",
    "        distance=[]\n",
    "        \n",
    "        for row in X:\n",
    "            for centroid in self.centroids:\n",
    "                distance.append( np.sqrt(np.dot(row-centroid,row-centroid)) )\n",
    "#             print(distance)\n",
    "            min_distance=min(distance)\n",
    "            index_pos=distance.index(min_distance)\n",
    "            cluster_group.append(index_pos)\n",
    "            distance.clear()\n",
    "        \n",
    "        return np.array(cluster_group)\n",
    "    \n",
    "    \n",
    "    def move_centroids(self,X,cluster_group):\n",
    "        new_centroids=[]\n",
    "        \n",
    "        cluster_type=np.unique(cluster_group)\n",
    "        \n",
    "        for type in cluster_type:\n",
    "            new_centroids.append( X[cluster_group==type].mean(axis=0) )\n",
    "            \n",
    "        return np.array(new_centroids)    \n",
    "        \n",
    "        \n",
    "        "
   ]
  },
  {
   "cell_type": "code",
   "execution_count": 14,
   "id": "4a6cd1ea",
   "metadata": {},
   "outputs": [],
   "source": [
    "km=Kmeans(n_clusters=2,max_itr=100)\n",
    "y_means= km.fit_predict(X)"
   ]
  },
  {
   "cell_type": "code",
   "execution_count": 15,
   "id": "f445401f",
   "metadata": {},
   "outputs": [
    {
     "data": {
      "text/plain": [
       "array([1, 1, 1, 1, 0, 1, 1, 0, 1, 0, 0, 0, 1, 0, 0, 0, 0, 1, 1, 1, 1, 1,\n",
       "       0, 1, 0, 1, 0, 1, 1, 0, 0, 0, 1, 1, 1, 1, 0, 0, 0, 0, 1, 1, 0, 0,\n",
       "       1, 0, 0, 1, 0, 0, 1, 1, 0, 0, 0, 1, 0, 1, 0, 1, 0, 1, 1, 0, 0, 1,\n",
       "       0, 0, 0, 1, 0, 1, 1, 1, 0, 1, 1, 0, 0, 1, 0, 0, 0, 1, 0, 1, 1, 0,\n",
       "       1, 1, 0, 1, 1, 0, 0, 1, 0, 1, 1, 0])"
      ]
     },
     "execution_count": 15,
     "metadata": {},
     "output_type": "execute_result"
    }
   ],
   "source": [
    "y_means"
   ]
  },
  {
   "cell_type": "code",
   "execution_count": 17,
   "id": "0fdc72ae",
   "metadata": {},
   "outputs": [
    {
     "data": {
      "image/png": "[encoded data removed]",
      "text/plain": [
       "<Figure size 640x480 with 1 Axes>"
      ]
     },
     "metadata": {},
     "output_type": "display_data"
    }
   ],
   "source": [
    "plt.scatter(X[y_means==0,0] , X[y_means==0,1] , color='red')\n",
    "plt.scatter(X[y_means==1,0] , X[y_means==1,1] , color='blue')\n",
    "plt.show()"
   ]
  },
  {
   "cell_type": "code",
   "execution_count": null,
   "id": "f143f876",
   "metadata": {},
   "outputs": [],
   "source": []
  }
 ],
 "metadata": {
  "kernelspec": {
   "display_name": "Python 3 (ipykernel)",
   "language": "python",
   "name": "python3"
  },
  "language_info": {
   "codemirror_mode": {
    "name": "ipython",
    "version": 3
   },
   "file_extension": ".py",
   "mimetype": "text/x-python",
   "name": "python",
   "nbconvert_exporter": "python",
   "pygments_lexer": "ipython3",
   "version": "3.10.9"
  }
 },
 "nbformat": 4,
 "nbformat_minor": 5
}
